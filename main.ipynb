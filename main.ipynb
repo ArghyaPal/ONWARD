{
  "nbformat": 4,
  "nbformat_minor": 0,
  "metadata": {
    "colab": {
      "name": "main.ipynb",
      "version": "0.3.2",
      "provenance": [],
      "collapsed_sections": [],
      "include_colab_link": true
    },
    "kernelspec": {
      "name": "python3",
      "display_name": "Python 3"
    }
  },
  "cells": [
    {
      "cell_type": "markdown",
      "metadata": {
        "id": "view-in-github",
        "colab_type": "text"
      },
      "source": [
        "<a href=\"https://colab.research.google.com/github/ArghyaPal/ONWARD/blob/master/main.ipynb\" target=\"_parent\"><img src=\"https://colab.research.google.com/assets/colab-badge.svg\" alt=\"Open In Colab\"/></a>"
      ]
    },
    {
      "cell_type": "markdown",
      "metadata": {
        "id": "KFJ3kE6uGbh_",
        "colab_type": "text"
      },
      "source": [
        "## All libraries"
      ]
    },
    {
      "cell_type": "code",
      "metadata": {
        "id": "AG7UBbPvGhyH",
        "colab_type": "code",
        "colab": {}
      },
      "source": [
        "from __future__ import print_function\n",
        "#%matplotlib inline\n",
        "import argparse\n",
        "import os\n",
        "import random\n",
        "import torch\n",
        "import torch.nn as nn\n",
        "import torch.nn.parallel\n",
        "import torch.backends.cudnn as cudnn\n",
        "import torch.optim as optim\n",
        "import torch.utils.data\n",
        "import torchvision.datasets as dset\n",
        "from torchvision.utils import save_image\n",
        "import torchvision.transforms as transforms\n",
        "import torchvision.utils as vutils\n",
        "import numpy as np\n",
        "import matplotlib.pyplot as plt\n",
        "import matplotlib.animation as animation\n",
        "#from IPython.display import HTML\n",
        "from model import *\n",
        "#from dataloader import *\n",
        "from hyper import *\n",
        "\n",
        "import os\n",
        "import h5py\n",
        "import numpy as np"
      ],
      "execution_count": 0,
      "outputs": []
    },
    {
      "cell_type": "markdown",
      "metadata": {
        "id": "h6CR8-6UGilH",
        "colab_type": "text"
      },
      "source": [
        "## Data Loading"
      ]
    },
    {
      "cell_type": "code",
      "metadata": {
        "id": "p3wRvbNvGpN_",
        "colab_type": "code",
        "colab": {}
      },
      "source": [
        "# Set random seem for reproducibility\n",
        "manualSeed = 999\n",
        "#manualSeed = random.randint(1, 10000) # use if you want new results\n",
        "print(\"Random Seed: \", manualSeed)\n",
        "random.seed(manualSeed)\n",
        "torch.manual_seed(manualSeed)\n",
        "\n",
        "\n",
        "def load_h5data(file_name, desc, dtype):\n",
        "    h5 = h5py.File(file_name, 'r')\n",
        "    return np.array(h5.get(desc), dtype=dtype)\n",
        "\n",
        "def reshape_image(image_array):\n",
        "    return image_array.transpose((0,3,1,2))\n",
        "\n",
        "def reshape_labels(label_array):\n",
        "    n, h, w, c = label_array.shape\n",
        "    return label_array.reshape((n))\n",
        "\n",
        "#specify your data path in 'path'\n",
        "path = '/groups2/gaa50088/pathology/pcamv1/'\n",
        "train_images = load_h5data(os.path.join(path, 'camelyonpatch_level_2_split_train_x.h5'), 'x', np.uint8)\n",
        "train_images = reshape_image(train_images)\n",
        "print(train_images.shape)\n",
        "\n",
        "train_labels = load_h5data(os.path.join(path,'camelyonpatch_level_2_split_train_y.h5'), 'y', np.uint8)\n",
        "train_labels = reshape_labels(train_labels)\n",
        "\n",
        "train_images = np.asarray(train_images, np.float32)\n",
        "train_images /= 255\n",
        "\n",
        "train_data = torch.tensor(train_images, dtype=torch.float32)\n",
        "train_labels = torch.tensor(train_labels, dtype=torch.long)\n",
        "\n",
        "real_batch = train_data[:32]\n",
        "print(\"Eito\")\n",
        "save_image(real_batch, \"images/real.png\", normalize=True)\n",
        "\n",
        "train_set = torch.utils.data.TensorDataset(train_data)#, train_labels) #for classification\n",
        "dataloader = torch.utils.data.DataLoader(train_set, batch_size=100, shuffle=True, drop_last=True)"
      ],
      "execution_count": 0,
      "outputs": []
    },
    {
      "cell_type": "code",
      "metadata": {
        "id": "TRA-m2-zGxq3",
        "colab_type": "code",
        "colab": {}
      },
      "source": [
        "# Decide which device we want to run on\n",
        "device = torch.device(\"cuda:0\" if (torch.cuda.is_available() and ngpu > 0) else \"cpu\")"
      ],
      "execution_count": 0,
      "outputs": []
    },
    {
      "cell_type": "markdown",
      "metadata": {
        "id": "IjwwVHgjG3_X",
        "colab_type": "text"
      },
      "source": [
        "## Weight initialization"
      ]
    },
    {
      "cell_type": "code",
      "metadata": {
        "id": "DtuqTxV4G8R-",
        "colab_type": "code",
        "colab": {}
      },
      "source": [
        "# custom weights initialization called on netG and netD\n",
        "def weights_init(m):\n",
        "    classname = m.__class__.__name__\n",
        "    if classname.find('Conv') != -1:\n",
        "        nn.init.normal_(m.weight.data, 0.0, 0.02)\n",
        "    elif classname.find('BatchNorm') != -1:\n",
        "        nn.init.normal_(m.weight.data, 1.0, 0.02)\n",
        "        nn.init.constant_(m.bias.data, 0)"
      ],
      "execution_count": 0,
      "outputs": []
    },
    {
      "cell_type": "markdown",
      "metadata": {
        "id": "mKniPRv8HE-3",
        "colab_type": "text"
      },
      "source": [
        "## Making Object of Encoder, Discriminator and Decoder Classes"
      ]
    },
    {
      "cell_type": "code",
      "metadata": {
        "id": "2d6ECMnpHNcG",
        "colab_type": "code",
        "colab": {}
      },
      "source": [
        "# Create the encoder\n",
        "netE = Encoder(ngpu).to(device)\n",
        "# Handle multi-gpu if desired\n",
        "if (device.type == 'cuda') and (ngpu > 1):\n",
        "    netE = nn.DataParallel(netE, list(range(ngpu)))\n",
        "# Apply the weights_init function to randomly initialize all weights\n",
        "#  to mean=0, stdev=0.2.\n",
        "netE.apply(weights_init)\n",
        "# Print the model\n",
        "#print(netG)\n",
        "\n",
        "\n",
        "\n",
        "# Create the generator\n",
        "netG = Generator(ngpu).to(device)\n",
        "# Handle multi-gpu if desired\n",
        "if (device.type == 'cuda') and (ngpu > 1):\n",
        "    netG = nn.DataParallel(netG, list(range(ngpu)))\n",
        "# Apply the weights_init function to randomly initialize all weights\n",
        "#  to mean=0, stdev=0.2.\n",
        "netG.apply(weights_init)\n",
        "# Print the model\n",
        "#print(netG)\n",
        "\n",
        "\n",
        "# Create the Discriminator\n",
        "netD = Discriminator(ngpu).to(device)\n",
        "# Handle multi-gpu if desired\n",
        "if (device.type == 'cuda') and (ngpu > 1):\n",
        "    netD = nn.DataParallel(netD, list(range(ngpu)))\n",
        "# Apply the weights_init function to randomly initialize all weights\n",
        "#  to mean=0, stdev=0.2.\n",
        "netD.apply(weights_init)\n",
        "# Print the model\n",
        "#print(netD)"
      ],
      "execution_count": 0,
      "outputs": []
    },
    {
      "cell_type": "markdown",
      "metadata": {
        "id": "nwLPZdVkHOot",
        "colab_type": "text"
      },
      "source": [
        "## Loss Definition"
      ]
    },
    {
      "cell_type": "code",
      "metadata": {
        "id": "VrlDugXHHWJO",
        "colab_type": "code",
        "colab": {}
      },
      "source": [
        "# Initialize BCELoss function\n",
        "criterion = nn.BCELoss()\n",
        "adversarial_loss = nn.MSELoss()\n",
        "\n",
        "\n",
        "# Create batch of latent vectors that we will use to visualize\n",
        "#  the progression of the generator\n",
        "fixed_noise = torch.randn(100, nz, 1, 1, device=device)\n",
        "\n",
        "\n",
        "# Establish convention for real and fake labels during training\n",
        "real_label = 1\n",
        "fake_label = 0\n",
        "\n",
        "\n",
        "# Setup Adam optimizers for both G and D\n",
        "optimizerD = optim.Adam(netD.parameters(), lr=lr, betas=(beta1, 0.999))\n",
        "optimizerG = optim.Adam(netG.parameters(), lr=lr, betas=(beta1, 0.999))\n",
        "optimizerE = optim.Adam(netE.parameters(), lr=lr, betas=(beta1, 0.999))\n",
        "\n",
        "# Training Loop\n",
        "\n",
        "# Lists to keep track of progress\n",
        "img_list = []\n",
        "G_losses = []\n",
        "D_losses = []\n",
        "iters = 100"
      ],
      "execution_count": 0,
      "outputs": []
    },
    {
      "cell_type": "markdown",
      "metadata": {
        "id": "4AszkJNZHXXm",
        "colab_type": "text"
      },
      "source": [
        "## Start Training Loop"
      ]
    },
    {
      "cell_type": "code",
      "metadata": {
        "id": "u_52BZcwHcWu",
        "colab_type": "code",
        "colab": {}
      },
      "source": [
        "print(\"Starting Training Loop...\")\n",
        "# For each epoch\n",
        "for epoch in range(num_epochs):\n",
        "    # For each batch in the dataloader\n",
        "    for i, data in enumerate(dataloader):#, 0):\n",
        "\n",
        "        ############################\n",
        "        # (1) Update D network: maximize log(D(x)) + log(1 - D(G(z)))\n",
        "        ###########################\n",
        "        ## Train with all-real batch\n",
        "        netD.zero_grad()\n",
        "        # Format batch\n",
        "        real_cpu = data[0].to(device) #(64,3,96,96)\n",
        "        b_size = real_cpu.size(0)\n",
        "        label = torch.full((b_size,), real_label, device=device)  # 64 elements\n",
        "        # Forward pass real batch through D\n",
        "        output = netD(real_cpu).view(-1)\n",
        "        # Calculate loss on all-real batch\n",
        "        errD_real = criterion(output, label)\n",
        "        \n",
        "        \n",
        "        # Calculate gradients for D in backward pass\n",
        "        errD_real.backward()\n",
        "        D_x = output.mean().item()\n",
        "\n",
        "        ## Train with all-fake batch\n",
        "        # Generate batch of latent vectors\n",
        "        noise = torch.randn(b_size, nz, 1, 1, device=device)\n",
        "        #print(noise.shape)\n",
        "        # Generate fake image batch with G\n",
        "        fake = netG(noise)\n",
        "        label.fill_(fake_label)\n",
        "        # Classify all fake batch with D\n",
        "        output = netD(fake.detach()).view(-1)\n",
        "        # Calculate D's loss on the all-fake batch\n",
        "        errD_fake = criterion(output, label)\n",
        "        #err_MSE_real = adversarial_loss(output, label)\n",
        "        #errD_fake = errD_dis + err_MSE_real\n",
        "\n",
        "\n",
        "        # Calculate the gradients for this batch\n",
        "        errD_fake.backward()\n",
        "        D_G_z1 = output.mean().item()\n",
        "        # Add the gradients from the all-real and all-fake batches\n",
        "        errD = errD_real + errD_fake\n",
        "        # Update D\n",
        "        optimizerD.step()\n",
        "\n",
        "        ############################\n",
        "        # (2) Update E network: maximize log(D(G(z)))\n",
        "        ###########################\n",
        "        netE.zero_grad()\n",
        "        label.fill_(real_label)  # fake labels are real for generator cost\n",
        "        # Since we just updated D, perform another forward pass of all-fake batch through D\n",
        "        encoded = netE(real_cpu).view(-1)\n",
        "        #print(encoded.shape)\n",
        "        encoded = encoded.view(100,100,1,1)\n",
        "        #print(encoded.shape)\n",
        "        #encoded = torch.tensor(b_size, encoded, 1, 1, device=device)\n",
        "        decoded = netG(encoded)\n",
        "        output = netD(decoded.detach()).view(-1)\n",
        "        # Calculate G's loss based on this output\n",
        "        errE = criterion(output, label)\n",
        "        errG = criterion(output, label)\n",
        "        # Calculate gradients for G\n",
        "        errE.backward(retain_graph=True)\n",
        "        errG.backward(retain_graph=True)\n",
        "        D_G_z3 = output.mean().item()\n",
        "        # Update E\n",
        "        optimizerE.step()\n",
        "        optimizerG.step()\n",
        "        \n",
        "        \n",
        "        ###########################\n",
        "        # (3) Update G network: maximize loss of encoder\n",
        "        ###########################\n",
        "        netG.zero_grad()\n",
        "        label.fill_(real_label)  # fake labels are real for generator cost\n",
        "        # Since we just updated D, perform another forward pass of all-fake batch through D\n",
        "        output = netD(fake).view(-1)\n",
        "        # Calculate G's loss based on this output\n",
        "        errG = criterion(output, label)\n",
        "        # Calculate gradients for G\n",
        "        errG.backward(retain_graph=True)\n",
        "        D_G_z2 = output.mean().item()\n",
        "        # Update G\n",
        "        optimizerG.step()\n",
        "\n",
        "\n",
        "        # Output training stats\n",
        "        if i % 10 == 0:\n",
        "            print('[%d/%d][%d/%d]\\tLoss_D: %.4f\\tLoss_G: %.4f\\tD(x): %.4f\\tD(G(z)): %.4f / %.4f'\n",
        "                  % (epoch, num_epochs, i, len(dataloader),\n",
        "                     errD.item(), errG.item(), D_x, D_G_z1, D_G_z2))\n",
        "\n",
        "        # Save Losses for plotting later\n",
        "        G_losses.append(errG.item())\n",
        "        D_losses.append(errD.item())\n",
        "\n",
        "        if epoch % 50 == 0:\n",
        "            fake = netG(fixed_noise).detach().cpu()\n",
        "            fake_batch = fake[:32]\n",
        "            save_image(fake_batch, \"images/fake.png\", normalize=True)\n",
        "            #for j in range(1,90):\n",
        "            #    save_image(fake.data[j,:,:,:], \"images/%d.png\" % j, nrow=1, normalize=True)\n",
        "\n",
        "        iters += 1"
      ],
      "execution_count": 0,
      "outputs": []
    }
  ]
}